{
 "cells": [
  {
   "cell_type": "code",
   "execution_count": 63,
   "id": "6eeaee9d-4ceb-4885-83ee-6bc675b6bd7b",
   "metadata": {},
   "outputs": [],
   "source": [
    "import requests\n",
    "import os\n",
    "from zipfile import ZipFile "
   ]
  },
  {
   "cell_type": "code",
   "execution_count": 64,
   "id": "3a41e9a7-8fda-4607-bd75-1c40607a11b5",
   "metadata": {},
   "outputs": [],
   "source": [
    "links = {\n",
    "    \"Mathematics\": \"https://s3.af-south-1.amazonaws.com/www.teachme2.com/matric-past-papers/2018-2023-Mathematics.zip\",\n",
    "    \"Physical Sciences\": \"https://s3.af-south-1.amazonaws.com/www.teachme2.com/matric-past-papers/2018-2023-Physical-Sciences.zip\",\n",
    "    \"Accounting\": \"https://s3.af-south-1.amazonaws.com/www.teachme2.com/matric-past-papers/2018-2023-Accounting.zip\",\n",
    "    \"English\": \"https://s3.af-south-1.amazonaws.com/www.teachme2.com/matric-past-papers/2018-2023-English.zip\"\n",
    "}"
   ]
  },
  {
   "cell_type": "code",
   "execution_count": 65,
   "id": "632f8f39-5b45-41cf-a9c9-50fe970dff2c",
   "metadata": {},
   "outputs": [],
   "source": [
    "response = requests.get(\"https://s3.af-south-1.amazonaws.com/www.teachme2.com/matric-past-papers/2018-2023-Mathematics.zip\", stream =True)"
   ]
  },
  {
   "cell_type": "code",
   "execution_count": 66,
   "id": "3dc7b358-9d15-4a1c-9753-0b4dc7f95807",
   "metadata": {},
   "outputs": [],
   "source": [
    "url=\"https://s3.af-south-1.amazonaws.com/www.teachme2.com/matric-past-papers/2018-2023-Mathematics.zip\""
   ]
  },
  {
   "cell_type": "code",
   "execution_count": 67,
   "id": "de0a24a2-fb12-4da5-abb2-dfa552c4b715",
   "metadata": {},
   "outputs": [],
   "source": [
    "local_filename = \"2018-2023-Mathematics.zip\""
   ]
  },
  {
   "cell_type": "code",
   "execution_count": 68,
   "id": "8df3854f-8f7c-45eb-b604-1dac539cb6e9",
   "metadata": {},
   "outputs": [],
   "source": [
    "# This function get's the files from \n",
    "def get_files(url, subject,path=\".\"):\n",
    "    file =f\"{subject}.zip\"\n",
    "\n",
    "\n",
    "    file_path=os.path.join(path,file)\n",
    "    \n",
    "\n",
    "    try:\n",
    "        response = requests.get(url,stream=True)\n",
    "        response.raise_for_status()\n",
    "        with open(file_path, \"wb\") as f:\n",
    "            for chunk in response.iter_content(chunk_size=8192):  # Corrected here\n",
    "                f.write(chunk)\n",
    "                \n",
    "        return print(f\"sucessfuly downloaded and stored {subject}.zip file\")\n",
    "    except requests.exceptions.RequestException as e:\n",
    "        print(f\"Error observed while processing file {url}:{e}\")\n",
    "        return None\n",
    "        \n",
    "\n",
    "\n"
   ]
  },
  {
   "cell_type": "code",
   "execution_count": 69,
   "id": "07d75c03-863d-4487-a4c4-ffafd109ba7d",
   "metadata": {},
   "outputs": [
    {
     "name": "stdout",
     "output_type": "stream",
     "text": [
      "sucessfuly downloaded and stored Mathematics.zip file\n",
      "sucessfuly downloaded and stored Physical Sciences.zip file\n",
      "sucessfuly downloaded and stored Accounting.zip file\n",
      "sucessfuly downloaded and stored English.zip file\n"
     ]
    }
   ],
   "source": [
    "#Download zip files\n",
    "folder_path = \".\"\n",
    "\n",
    "for subject, url in links.items():\n",
    "    file_path = get_files(url, subject, path=folder_path)\n",
    " "
   ]
  },
  {
   "cell_type": "code",
   "execution_count": 73,
   "id": "fbedff2a-69fc-42cd-bf8a-0e5ffa92da21",
   "metadata": {},
   "outputs": [],
   "source": [
    "\n",
    "#this finction extract zip files\n",
    "def extract_files(files):\n",
    "        \n",
    "    for file in files:\n",
    "        zip_file =f\"{file}.zip\"\n",
    "        print(zip_file)\n",
    "        # loading the temp.zip and creating a zip object \n",
    "        with ZipFile(zip_file, 'r') as zObject: \n",
    "        \n",
    "        \t# Extracting all the members of the zip \n",
    "        \t# into a specific location. \n",
    "        \tzObject.extractall(path=f\"./extracts/{file}\") "
   ]
  },
  {
   "cell_type": "code",
   "execution_count": 75,
   "id": "cc9d8b6c-07a1-422b-ae14-39ac6ca35f1b",
   "metadata": {},
   "outputs": [
    {
     "name": "stdout",
     "output_type": "stream",
     "text": [
      "Mathematics.zip\n",
      "Physical Sciences.zip\n",
      "Accounting.zip\n",
      "English.zip\n"
     ]
    }
   ],
   "source": [
    "# extract zip files\n",
    "\n",
    "files =[\"Mathematics\",\"Physical Sciences\", \"Accounting\",\"English\"]\n",
    "extract_files(files)"
   ]
  },
  {
   "cell_type": "code",
   "execution_count": null,
   "id": "d415b1cd-4889-4c65-9bfa-ad9962640620",
   "metadata": {},
   "outputs": [],
   "source": []
  }
 ],
 "metadata": {
  "kernelspec": {
   "display_name": "Python 3 (ipykernel)",
   "language": "python",
   "name": "python3"
  },
  "language_info": {
   "codemirror_mode": {
    "name": "ipython",
    "version": 3
   },
   "file_extension": ".py",
   "mimetype": "text/x-python",
   "name": "python",
   "nbconvert_exporter": "python",
   "pygments_lexer": "ipython3",
   "version": "3.12.7"
  }
 },
 "nbformat": 4,
 "nbformat_minor": 5
}
