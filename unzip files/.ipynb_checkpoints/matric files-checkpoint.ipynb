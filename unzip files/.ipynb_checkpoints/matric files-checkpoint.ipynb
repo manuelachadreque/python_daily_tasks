{
 "cells": [
  {
   "cell_type": "code",
   "execution_count": 1,
   "id": "6eeaee9d-4ceb-4885-83ee-6bc675b6bd7b",
   "metadata": {},
   "outputs": [],
   "source": [
    "import requests\n"
   ]
  },
  {
   "cell_type": "code",
   "execution_count": 2,
   "id": "3a41e9a7-8fda-4607-bd75-1c40607a11b5",
   "metadata": {},
   "outputs": [],
   "source": [
    "subject_links = {\n",
    "    \"Mathematics\": \"[Mathematics](https://s3.af-south-1.amazonaws.com/www.teachme2.com/matric-past-papers/2018-2023-Mathematics.zip)\",\n",
    "    \"Physical Sciences\": \"[Physical Sciences](https://s3.af-south-1.amazonaws.com/www.teachme2.com/matric-past-papers/2018-2023-Physical-Sciences.zip)\",\n",
    "    \"Accounting\": \"[Accounting](https://s3.af-south-1.amazonaws.com/www.teachme2.com/matric-past-papers/2018-2023-Accounting.zip)\",\n",
    "    \"English\": \"[English](https://s3.af-south-1.amazonaws.com/www.teachme2.com/matric-past-papers/2018-2023-English.zip)\"\n",
    "}"
   ]
  },
  {
   "cell_type": "code",
   "execution_count": 3,
   "id": "632f8f39-5b45-41cf-a9c9-50fe970dff2c",
   "metadata": {},
   "outputs": [],
   "source": [
    "response = requests.get(\"https://s3.af-south-1.amazonaws.com/www.teachme2.com/matric-past-papers/2018-2023-Mathematics.zip\", stream =True)"
   ]
  },
  {
   "cell_type": "code",
   "execution_count": 4,
   "id": "3dc7b358-9d15-4a1c-9753-0b4dc7f95807",
   "metadata": {},
   "outputs": [],
   "source": [
    "url=\"https://s3.af-south-1.amazonaws.com/www.teachme2.com/matric-past-papers/2018-2023-Mathematics.zip\""
   ]
  },
  {
   "cell_type": "code",
   "execution_count": 5,
   "id": "de0a24a2-fb12-4da5-abb2-dfa552c4b715",
   "metadata": {},
   "outputs": [],
   "source": [
    "local_filename = \"2018-2023-Mathematics.zip\""
   ]
  },
  {
   "cell_type": "code",
   "execution_count": 6,
   "id": "8df3854f-8f7c-45eb-b604-1dac539cb6e9",
   "metadata": {},
   "outputs": [],
   "source": [
    "# This function get's the files from \n",
    "def get_files(url, subject):\n",
    "    file_name =f\"{subject}.zip\"\n",
    "\n",
    "    try:\n",
    "        response = requests.get(url,stream=True)\n",
    "        response.raise_for_status()\n",
    "        return response\n",
    "    except request.exceptions.Requestexception as e:\n",
    "        print(f\"Error observed while getting file {url}:{e}\")\n",
    "        return None\n",
    "        \n",
    "\n",
    "\n"
   ]
  },
  {
   "cell_type": "code",
   "execution_count": null,
   "id": "230d95cf-a7ee-430a-9ffa-ce19fc2f76e3",
   "metadata": {},
   "outputs": [],
   "source": [
    "get_files(url, subject)"
   ]
  }
 ],
 "metadata": {
  "kernelspec": {
   "display_name": "Python 3 (ipykernel)",
   "language": "python",
   "name": "python3"
  },
  "language_info": {
   "codemirror_mode": {
    "name": "ipython",
    "version": 3
   },
   "file_extension": ".py",
   "mimetype": "text/x-python",
   "name": "python",
   "nbconvert_exporter": "python",
   "pygments_lexer": "ipython3",
   "version": "3.12.7"
  }
 },
 "nbformat": 4,
 "nbformat_minor": 5
}
