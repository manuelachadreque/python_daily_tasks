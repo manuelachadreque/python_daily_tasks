{
 "cells": [
  {
   "cell_type": "code",
   "execution_count": null,
   "id": "96a3850b-c3a8-43d2-a267-ddf5fa89477f",
   "metadata": {},
   "outputs": [],
   "source": [
    "g=[]\n",
    "\n",
    "def print_dic(v, prefix=''):\n",
    "    if isinstance(v, dict):\n",
    "        "
   ]
  }
 ],
 "metadata": {
  "kernelspec": {
   "display_name": "Python 3 (ipykernel)",
   "language": "python",
   "name": "python3"
  },
  "language_info": {
   "codemirror_mode": {
    "name": "ipython",
    "version": 3
   },
   "file_extension": ".py",
   "mimetype": "text/x-python",
   "name": "python",
   "nbconvert_exporter": "python",
   "pygments_lexer": "ipython3",
   "version": "3.12.7"
  }
 },
 "nbformat": 4,
 "nbformat_minor": 5
}
